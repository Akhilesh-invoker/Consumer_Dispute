{
 "cells": [
  {
   "cell_type": "code",
   "execution_count": 1,
   "metadata": {},
   "outputs": [],
   "source": [
    "import numpy as np\n",
    "import pandas as pd\n",
    "import seaborn as sns\n",
    "import matplotlib.pyplot as plt"
   ]
  },
  {
   "cell_type": "code",
   "execution_count": 4,
   "metadata": {},
   "outputs": [],
   "source": [
    "file=r'C:\\Users\\akhil\\Downloads\\ML_Practise\\Consumer_Dispute_Data.csv'"
   ]
  },
  {
   "cell_type": "code",
   "execution_count": 5,
   "metadata": {},
   "outputs": [],
   "source": [
    "ex=pd.read_csv(file)"
   ]
  },
  {
   "cell_type": "markdown",
   "metadata": {},
   "source": []
  },
  {
   "cell_type": "code",
   "execution_count": 41,
   "metadata": {},
   "outputs": [],
   "source": [
    "#FIRST WE NEED TO CONVERT THE DATE COLUMN INTO PD.TO_DATETIME THEN EXTRACT THE WEEKDAYS,MONTH AND YEAR"
   ]
  },
  {
   "cell_type": "code",
   "execution_count": 4,
   "metadata": {},
   "outputs": [],
   "source": [
    "ex['Date received']=pd.to_datetime(ex['Date received'])"
   ]
  },
  {
   "cell_type": "code",
   "execution_count": 5,
   "metadata": {},
   "outputs": [],
   "source": [
    "ex['Month']=ex['Date received'].dt.month\n",
    "ex['Year']=ex['Date received'].dt.year\n",
    "ex['Week_day']=ex['Date received'].dt.weekday_name\n",
    "ex.drop(['Date received'],axis=1,inplace=True)"
   ]
  },
  {
   "cell_type": "code",
   "execution_count": 6,
   "metadata": {},
   "outputs": [
    {
     "data": {
      "text/html": [
       "<div>\n",
       "<style scoped>\n",
       "    .dataframe tbody tr th:only-of-type {\n",
       "        vertical-align: middle;\n",
       "    }\n",
       "\n",
       "    .dataframe tbody tr th {\n",
       "        vertical-align: top;\n",
       "    }\n",
       "\n",
       "    .dataframe thead th {\n",
       "        text-align: right;\n",
       "    }\n",
       "</style>\n",
       "<table border=\"1\" class=\"dataframe\">\n",
       "  <thead>\n",
       "    <tr style=\"text-align: right;\">\n",
       "      <th></th>\n",
       "      <th>Product</th>\n",
       "      <th>Sub-product</th>\n",
       "      <th>Issue</th>\n",
       "      <th>Sub-issue</th>\n",
       "      <th>Consumer complaint narrative</th>\n",
       "      <th>Company public response</th>\n",
       "      <th>Company</th>\n",
       "      <th>State</th>\n",
       "      <th>ZIP code</th>\n",
       "      <th>Tags</th>\n",
       "      <th>Consumer consent provided?</th>\n",
       "      <th>Submitted via</th>\n",
       "      <th>Date sent to company</th>\n",
       "      <th>Company response to consumer</th>\n",
       "      <th>Timely response?</th>\n",
       "      <th>Consumer disputed?</th>\n",
       "      <th>Complaint ID</th>\n",
       "      <th>Month</th>\n",
       "      <th>Year</th>\n",
       "      <th>Week_day</th>\n",
       "    </tr>\n",
       "  </thead>\n",
       "  <tbody>\n",
       "    <tr>\n",
       "      <th>0</th>\n",
       "      <td>Credit card</td>\n",
       "      <td>NaN</td>\n",
       "      <td>Billing statement</td>\n",
       "      <td>NaN</td>\n",
       "      <td>NaN</td>\n",
       "      <td>NaN</td>\n",
       "      <td>Wells Fargo &amp; Company</td>\n",
       "      <td>MI</td>\n",
       "      <td>48342</td>\n",
       "      <td>Older American</td>\n",
       "      <td>NaN</td>\n",
       "      <td>Web</td>\n",
       "      <td>2014-05-16</td>\n",
       "      <td>Closed with explanation</td>\n",
       "      <td>Yes</td>\n",
       "      <td>No</td>\n",
       "      <td>856103</td>\n",
       "      <td>5</td>\n",
       "      <td>2014</td>\n",
       "      <td>Thursday</td>\n",
       "    </tr>\n",
       "    <tr>\n",
       "      <th>1</th>\n",
       "      <td>Bank account or service</td>\n",
       "      <td>(CD) Certificate of deposit</td>\n",
       "      <td>Making/receiving payments, sending money</td>\n",
       "      <td>NaN</td>\n",
       "      <td>NaN</td>\n",
       "      <td>NaN</td>\n",
       "      <td>Santander Bank US</td>\n",
       "      <td>PA</td>\n",
       "      <td>18042</td>\n",
       "      <td>NaN</td>\n",
       "      <td>NaN</td>\n",
       "      <td>Referral</td>\n",
       "      <td>2014-09-24</td>\n",
       "      <td>Closed</td>\n",
       "      <td>Yes</td>\n",
       "      <td>No</td>\n",
       "      <td>1034666</td>\n",
       "      <td>9</td>\n",
       "      <td>2014</td>\n",
       "      <td>Thursday</td>\n",
       "    </tr>\n",
       "    <tr>\n",
       "      <th>2</th>\n",
       "      <td>Credit reporting</td>\n",
       "      <td>NaN</td>\n",
       "      <td>Incorrect information on credit report</td>\n",
       "      <td>Account status</td>\n",
       "      <td>NaN</td>\n",
       "      <td>NaN</td>\n",
       "      <td>Equifax</td>\n",
       "      <td>CA</td>\n",
       "      <td>92427</td>\n",
       "      <td>NaN</td>\n",
       "      <td>NaN</td>\n",
       "      <td>Referral</td>\n",
       "      <td>2014-04-03</td>\n",
       "      <td>Closed with non-monetary relief</td>\n",
       "      <td>Yes</td>\n",
       "      <td>No</td>\n",
       "      <td>756363</td>\n",
       "      <td>3</td>\n",
       "      <td>2014</td>\n",
       "      <td>Thursday</td>\n",
       "    </tr>\n",
       "    <tr>\n",
       "      <th>3</th>\n",
       "      <td>Credit card</td>\n",
       "      <td>NaN</td>\n",
       "      <td>Billing statement</td>\n",
       "      <td>NaN</td>\n",
       "      <td>My credit card statement from US Bank, XXXX. X...</td>\n",
       "      <td>Company chooses not to provide a public response</td>\n",
       "      <td>U.S. Bancorp</td>\n",
       "      <td>GA</td>\n",
       "      <td>305XX</td>\n",
       "      <td>Older American</td>\n",
       "      <td>Consent provided</td>\n",
       "      <td>Web</td>\n",
       "      <td>2015-07-17</td>\n",
       "      <td>Closed with monetary relief</td>\n",
       "      <td>Yes</td>\n",
       "      <td>No</td>\n",
       "      <td>1474177</td>\n",
       "      <td>7</td>\n",
       "      <td>2015</td>\n",
       "      <td>Friday</td>\n",
       "    </tr>\n",
       "    <tr>\n",
       "      <th>4</th>\n",
       "      <td>Credit card</td>\n",
       "      <td>NaN</td>\n",
       "      <td>Transaction issue</td>\n",
       "      <td>NaN</td>\n",
       "      <td>NaN</td>\n",
       "      <td>NaN</td>\n",
       "      <td>Bank of America</td>\n",
       "      <td>MA</td>\n",
       "      <td>02127</td>\n",
       "      <td>NaN</td>\n",
       "      <td>NaN</td>\n",
       "      <td>Web</td>\n",
       "      <td>2014-11-28</td>\n",
       "      <td>Closed with explanation</td>\n",
       "      <td>Yes</td>\n",
       "      <td>No</td>\n",
       "      <td>1132572</td>\n",
       "      <td>11</td>\n",
       "      <td>2014</td>\n",
       "      <td>Thursday</td>\n",
       "    </tr>\n",
       "  </tbody>\n",
       "</table>\n",
       "</div>"
      ],
      "text/plain": [
       "                   Product                  Sub-product  \\\n",
       "0              Credit card                          NaN   \n",
       "1  Bank account or service  (CD) Certificate of deposit   \n",
       "2         Credit reporting                          NaN   \n",
       "3              Credit card                          NaN   \n",
       "4              Credit card                          NaN   \n",
       "\n",
       "                                      Issue       Sub-issue  \\\n",
       "0                         Billing statement             NaN   \n",
       "1  Making/receiving payments, sending money             NaN   \n",
       "2    Incorrect information on credit report  Account status   \n",
       "3                         Billing statement             NaN   \n",
       "4                         Transaction issue             NaN   \n",
       "\n",
       "                        Consumer complaint narrative  \\\n",
       "0                                                NaN   \n",
       "1                                                NaN   \n",
       "2                                                NaN   \n",
       "3  My credit card statement from US Bank, XXXX. X...   \n",
       "4                                                NaN   \n",
       "\n",
       "                            Company public response                Company  \\\n",
       "0                                               NaN  Wells Fargo & Company   \n",
       "1                                               NaN      Santander Bank US   \n",
       "2                                               NaN                Equifax   \n",
       "3  Company chooses not to provide a public response           U.S. Bancorp   \n",
       "4                                               NaN        Bank of America   \n",
       "\n",
       "  State ZIP code            Tags Consumer consent provided? Submitted via  \\\n",
       "0    MI    48342  Older American                        NaN           Web   \n",
       "1    PA    18042             NaN                        NaN      Referral   \n",
       "2    CA    92427             NaN                        NaN      Referral   \n",
       "3    GA    305XX  Older American           Consent provided           Web   \n",
       "4    MA    02127             NaN                        NaN           Web   \n",
       "\n",
       "  Date sent to company     Company response to consumer Timely response?  \\\n",
       "0           2014-05-16          Closed with explanation              Yes   \n",
       "1           2014-09-24                           Closed              Yes   \n",
       "2           2014-04-03  Closed with non-monetary relief              Yes   \n",
       "3           2015-07-17      Closed with monetary relief              Yes   \n",
       "4           2014-11-28          Closed with explanation              Yes   \n",
       "\n",
       "  Consumer disputed?  Complaint ID  Month  Year  Week_day  \n",
       "0                 No        856103      5  2014  Thursday  \n",
       "1                 No       1034666      9  2014  Thursday  \n",
       "2                 No        756363      3  2014  Thursday  \n",
       "3                 No       1474177      7  2015    Friday  \n",
       "4                 No       1132572     11  2014  Thursday  "
      ]
     },
     "execution_count": 6,
     "metadata": {},
     "output_type": "execute_result"
    }
   ],
   "source": [
    "ex.head()"
   ]
  },
  {
   "cell_type": "code",
   "execution_count": 46,
   "metadata": {},
   "outputs": [],
   "source": [
    "#WE ARE MODIFYING OUR TARGET VARIABLE COUNSUMER DISPUTED TO TARGET"
   ]
  },
  {
   "cell_type": "code",
   "execution_count": 7,
   "metadata": {},
   "outputs": [],
   "source": [
    "ex['target']=np.where(ex['Consumer disputed?']=='No',0,1)"
   ]
  },
  {
   "cell_type": "code",
   "execution_count": 8,
   "metadata": {},
   "outputs": [
    {
     "data": {
      "text/plain": [
       "0    376990\n",
       "1    101431\n",
       "Name: target, dtype: int64"
      ]
     },
     "execution_count": 8,
     "metadata": {},
     "output_type": "execute_result"
    }
   ],
   "source": [
    "ex['target'].value_counts()"
   ]
  },
  {
   "cell_type": "code",
   "execution_count": 9,
   "metadata": {},
   "outputs": [],
   "source": [
    "ex.drop(['Consumer disputed?'],axis=1,inplace=True)"
   ]
  },
  {
   "cell_type": "code",
   "execution_count": 51,
   "metadata": {},
   "outputs": [],
   "source": [
    "#NOW WE NEED TO DEAL WITH OBJECT TYPE AND CONVERT THEM TO INT"
   ]
  },
  {
   "cell_type": "code",
   "execution_count": null,
   "metadata": {},
   "outputs": [],
   "source": []
  },
  {
   "cell_type": "code",
   "execution_count": 10,
   "metadata": {},
   "outputs": [],
   "source": [
    "cat_cols=ex.select_dtypes(['object']).columns"
   ]
  },
  {
   "cell_type": "code",
   "execution_count": null,
   "metadata": {},
   "outputs": [],
   "source": []
  },
  {
   "cell_type": "code",
   "execution_count": 91,
   "metadata": {},
   "outputs": [],
   "source": [
    "x=cat.tolist()"
   ]
  },
  {
   "cell_type": "code",
   "execution_count": 126,
   "metadata": {},
   "outputs": [
    {
     "data": {
      "text/plain": [
       "Index(['Product', 'Sub-product', 'Issue', 'Sub-issue',\n",
       "       'Consumer complaint narrative', 'Company public response', 'Company',\n",
       "       'State', 'ZIP code', 'Tags', 'Consumer consent provided?',\n",
       "       'Submitted via', 'Date sent to company', 'Company response to consumer',\n",
       "       'Timely response?', 'Week_day'],\n",
       "      dtype='object')"
      ]
     },
     "execution_count": 126,
     "metadata": {},
     "output_type": "execute_result"
    }
   ],
   "source": [
    "cat_cols"
   ]
  },
  {
   "cell_type": "code",
   "execution_count": null,
   "metadata": {},
   "outputs": [],
   "source": [
    "for col in 'Product':\n",
    "    freqs=ex[col].value_counts()\n",
    "    selected_cats=freqs.index[freqs>100][:-1]\n",
    "    \n",
    "    print(col)\n",
    "    for catt in selected_cats:\n",
    "        name=col+'_'+catt\n",
    "        \n",
    "        ex[name]=(ex[col]==cat).astype(int)\n",
    "    del ex[col]"
   ]
  },
  {
   "cell_type": "code",
   "execution_count": 109,
   "metadata": {},
   "outputs": [
    {
     "data": {
      "text/plain": [
       "Index(['Product', 'Sub-product', 'Issue', 'Sub-issue',\n",
       "       'Consumer complaint narrative', 'Company public response', 'Company',\n",
       "       'State', 'ZIP code', 'Tags', 'Consumer consent provided?',\n",
       "       'Submitted via', 'Date sent to company', 'Company response to consumer',\n",
       "       'Timely response?', 'Week_day'],\n",
       "      dtype='object')"
      ]
     },
     "execution_count": 109,
     "metadata": {},
     "output_type": "execute_result"
    }
   ],
   "source": [
    "cat_cols"
   ]
  },
  {
   "cell_type": "code",
   "execution_count": null,
   "metadata": {},
   "outputs": [],
   "source": []
  },
  {
   "cell_type": "code",
   "execution_count": 127,
   "metadata": {},
   "outputs": [],
   "source": [
    "for cat in selected_cats:\n",
    "    name='Product'+'_'+cat\n",
    "    ex[name]=(ex['Product']==cat).astype(int)"
   ]
  },
  {
   "cell_type": "code",
   "execution_count": 16,
   "metadata": {},
   "outputs": [
    {
     "data": {
      "text/html": [
       "<div>\n",
       "<style scoped>\n",
       "    .dataframe tbody tr th:only-of-type {\n",
       "        vertical-align: middle;\n",
       "    }\n",
       "\n",
       "    .dataframe tbody tr th {\n",
       "        vertical-align: top;\n",
       "    }\n",
       "\n",
       "    .dataframe thead th {\n",
       "        text-align: right;\n",
       "    }\n",
       "</style>\n",
       "<table border=\"1\" class=\"dataframe\">\n",
       "  <thead>\n",
       "    <tr style=\"text-align: right;\">\n",
       "      <th></th>\n",
       "      <th>Issue</th>\n",
       "      <th>Sub-issue</th>\n",
       "      <th>Consumer complaint narrative</th>\n",
       "      <th>Company public response</th>\n",
       "      <th>Company</th>\n",
       "      <th>State</th>\n",
       "      <th>ZIP code</th>\n",
       "      <th>Tags</th>\n",
       "      <th>Consumer consent provided?</th>\n",
       "      <th>Submitted via</th>\n",
       "      <th>...</th>\n",
       "      <th>Sub-product_Mortgage</th>\n",
       "      <th>Sub-product_(CD) Certificate of deposit</th>\n",
       "      <th>Sub-product_Auto</th>\n",
       "      <th>Sub-product_International money transfer</th>\n",
       "      <th>Sub-product_Domestic (US) money transfer</th>\n",
       "      <th>Sub-product_Federal student loan</th>\n",
       "      <th>Sub-product_Vehicle lease</th>\n",
       "      <th>Sub-product_Federal student loan servicing</th>\n",
       "      <th>Sub-product_Reverse mortgage</th>\n",
       "      <th>Sub-product_Personal line of credit</th>\n",
       "    </tr>\n",
       "  </thead>\n",
       "  <tbody>\n",
       "    <tr>\n",
       "      <th>0</th>\n",
       "      <td>Billing statement</td>\n",
       "      <td>NaN</td>\n",
       "      <td>NaN</td>\n",
       "      <td>NaN</td>\n",
       "      <td>Wells Fargo &amp; Company</td>\n",
       "      <td>MI</td>\n",
       "      <td>48342</td>\n",
       "      <td>Older American</td>\n",
       "      <td>NaN</td>\n",
       "      <td>Web</td>\n",
       "      <td>...</td>\n",
       "      <td>0</td>\n",
       "      <td>0</td>\n",
       "      <td>0</td>\n",
       "      <td>0</td>\n",
       "      <td>0</td>\n",
       "      <td>0</td>\n",
       "      <td>0</td>\n",
       "      <td>0</td>\n",
       "      <td>0</td>\n",
       "      <td>0</td>\n",
       "    </tr>\n",
       "    <tr>\n",
       "      <th>1</th>\n",
       "      <td>Making/receiving payments, sending money</td>\n",
       "      <td>NaN</td>\n",
       "      <td>NaN</td>\n",
       "      <td>NaN</td>\n",
       "      <td>Santander Bank US</td>\n",
       "      <td>PA</td>\n",
       "      <td>18042</td>\n",
       "      <td>NaN</td>\n",
       "      <td>NaN</td>\n",
       "      <td>Referral</td>\n",
       "      <td>...</td>\n",
       "      <td>0</td>\n",
       "      <td>1</td>\n",
       "      <td>0</td>\n",
       "      <td>0</td>\n",
       "      <td>0</td>\n",
       "      <td>0</td>\n",
       "      <td>0</td>\n",
       "      <td>0</td>\n",
       "      <td>0</td>\n",
       "      <td>0</td>\n",
       "    </tr>\n",
       "    <tr>\n",
       "      <th>2</th>\n",
       "      <td>Incorrect information on credit report</td>\n",
       "      <td>Account status</td>\n",
       "      <td>NaN</td>\n",
       "      <td>NaN</td>\n",
       "      <td>Equifax</td>\n",
       "      <td>CA</td>\n",
       "      <td>92427</td>\n",
       "      <td>NaN</td>\n",
       "      <td>NaN</td>\n",
       "      <td>Referral</td>\n",
       "      <td>...</td>\n",
       "      <td>0</td>\n",
       "      <td>0</td>\n",
       "      <td>0</td>\n",
       "      <td>0</td>\n",
       "      <td>0</td>\n",
       "      <td>0</td>\n",
       "      <td>0</td>\n",
       "      <td>0</td>\n",
       "      <td>0</td>\n",
       "      <td>0</td>\n",
       "    </tr>\n",
       "    <tr>\n",
       "      <th>3</th>\n",
       "      <td>Billing statement</td>\n",
       "      <td>NaN</td>\n",
       "      <td>My credit card statement from US Bank, XXXX. X...</td>\n",
       "      <td>Company chooses not to provide a public response</td>\n",
       "      <td>U.S. Bancorp</td>\n",
       "      <td>GA</td>\n",
       "      <td>305XX</td>\n",
       "      <td>Older American</td>\n",
       "      <td>Consent provided</td>\n",
       "      <td>Web</td>\n",
       "      <td>...</td>\n",
       "      <td>0</td>\n",
       "      <td>0</td>\n",
       "      <td>0</td>\n",
       "      <td>0</td>\n",
       "      <td>0</td>\n",
       "      <td>0</td>\n",
       "      <td>0</td>\n",
       "      <td>0</td>\n",
       "      <td>0</td>\n",
       "      <td>0</td>\n",
       "    </tr>\n",
       "    <tr>\n",
       "      <th>4</th>\n",
       "      <td>Transaction issue</td>\n",
       "      <td>NaN</td>\n",
       "      <td>NaN</td>\n",
       "      <td>NaN</td>\n",
       "      <td>Bank of America</td>\n",
       "      <td>MA</td>\n",
       "      <td>02127</td>\n",
       "      <td>NaN</td>\n",
       "      <td>NaN</td>\n",
       "      <td>Web</td>\n",
       "      <td>...</td>\n",
       "      <td>0</td>\n",
       "      <td>0</td>\n",
       "      <td>0</td>\n",
       "      <td>0</td>\n",
       "      <td>0</td>\n",
       "      <td>0</td>\n",
       "      <td>0</td>\n",
       "      <td>0</td>\n",
       "      <td>0</td>\n",
       "      <td>0</td>\n",
       "    </tr>\n",
       "  </tbody>\n",
       "</table>\n",
       "<p>5 rows × 54 columns</p>\n",
       "</div>"
      ],
      "text/plain": [
       "                                      Issue       Sub-issue  \\\n",
       "0                         Billing statement             NaN   \n",
       "1  Making/receiving payments, sending money             NaN   \n",
       "2    Incorrect information on credit report  Account status   \n",
       "3                         Billing statement             NaN   \n",
       "4                         Transaction issue             NaN   \n",
       "\n",
       "                        Consumer complaint narrative  \\\n",
       "0                                                NaN   \n",
       "1                                                NaN   \n",
       "2                                                NaN   \n",
       "3  My credit card statement from US Bank, XXXX. X...   \n",
       "4                                                NaN   \n",
       "\n",
       "                            Company public response                Company  \\\n",
       "0                                               NaN  Wells Fargo & Company   \n",
       "1                                               NaN      Santander Bank US   \n",
       "2                                               NaN                Equifax   \n",
       "3  Company chooses not to provide a public response           U.S. Bancorp   \n",
       "4                                               NaN        Bank of America   \n",
       "\n",
       "  State ZIP code            Tags Consumer consent provided? Submitted via  \\\n",
       "0    MI    48342  Older American                        NaN           Web   \n",
       "1    PA    18042             NaN                        NaN      Referral   \n",
       "2    CA    92427             NaN                        NaN      Referral   \n",
       "3    GA    305XX  Older American           Consent provided           Web   \n",
       "4    MA    02127             NaN                        NaN           Web   \n",
       "\n",
       "                  ...                  Sub-product_Mortgage  \\\n",
       "0                 ...                                     0   \n",
       "1                 ...                                     0   \n",
       "2                 ...                                     0   \n",
       "3                 ...                                     0   \n",
       "4                 ...                                     0   \n",
       "\n",
       "  Sub-product_(CD) Certificate of deposit Sub-product_Auto  \\\n",
       "0                                       0                0   \n",
       "1                                       1                0   \n",
       "2                                       0                0   \n",
       "3                                       0                0   \n",
       "4                                       0                0   \n",
       "\n",
       "   Sub-product_International money transfer  \\\n",
       "0                                         0   \n",
       "1                                         0   \n",
       "2                                         0   \n",
       "3                                         0   \n",
       "4                                         0   \n",
       "\n",
       "   Sub-product_Domestic (US) money transfer  Sub-product_Federal student loan  \\\n",
       "0                                         0                                 0   \n",
       "1                                         0                                 0   \n",
       "2                                         0                                 0   \n",
       "3                                         0                                 0   \n",
       "4                                         0                                 0   \n",
       "\n",
       "  Sub-product_Vehicle lease  Sub-product_Federal student loan servicing  \\\n",
       "0                         0                                           0   \n",
       "1                         0                                           0   \n",
       "2                         0                                           0   \n",
       "3                         0                                           0   \n",
       "4                         0                                           0   \n",
       "\n",
       "   Sub-product_Reverse mortgage  Sub-product_Personal line of credit  \n",
       "0                             0                                    0  \n",
       "1                             0                                    0  \n",
       "2                             0                                    0  \n",
       "3                             0                                    0  \n",
       "4                             0                                    0  \n",
       "\n",
       "[5 rows x 54 columns]"
      ]
     },
     "execution_count": 16,
     "metadata": {},
     "output_type": "execute_result"
    }
   ],
   "source": [
    "ex.head()"
   ]
  },
  {
   "cell_type": "code",
   "execution_count": 14,
   "metadata": {},
   "outputs": [],
   "source": [
    "col='Sub-product'"
   ]
  },
  {
   "cell_type": "code",
   "execution_count": 15,
   "metadata": {},
   "outputs": [],
   "source": [
    "freqs=ex[col].value_counts()\n",
    "selected_cats=freqs.index[freqs>1000][:-1]\n",
    "for cat in selected_cats:\n",
    "    name=col+'_'+cat\n",
    "    ex[name]=(ex[col]==cat).astype(int)\n",
    "del ex[col]"
   ]
  },
  {
   "cell_type": "code",
   "execution_count": 93,
   "metadata": {},
   "outputs": [
    {
     "data": {
      "text/plain": [
       "Consumer complaint narrative                                    object\n",
       "Month                                                            int64\n",
       "Year                                                             int64\n",
       "target                                                           int32\n",
       "Product_Mortgage                                                 int32\n",
       "Product_Debt collection                                          int32\n",
       "Product_Credit reporting                                         int32\n",
       "Product_Credit card                                              int32\n",
       "Product_Bank account or service                                  int32\n",
       "Product_Consumer Loan                                            int32\n",
       "Product_Student loan                                             int32\n",
       "Product_Money transfers                                          int32\n",
       "Product_Payday loan                                              int32\n",
       "Sub-product_Other mortgage                                       int32\n",
       "Sub-product_Conventional fixed mortgage                          int32\n",
       "Sub-product_Checking account                                     int32\n",
       "Sub-product_Other (i.e. phone, health club, etc.)                int32\n",
       "Sub-product_I do not know                                        int32\n",
       "Sub-product_Credit card                                          int32\n",
       "Sub-product_Conventional adjustable mortgage (ARM)               int32\n",
       "Sub-product_FHA mortgage                                         int32\n",
       "Sub-product_Non-federal student loan                             int32\n",
       "Sub-product_Medical                                              int32\n",
       "Sub-product_Vehicle loan                                         int32\n",
       "Sub-product_Other bank product/service                           int32\n",
       "Sub-product_Payday loan                                          int32\n",
       "Sub-product_Home equity loan or line of credit                   int32\n",
       "Sub-product_Installment loan                                     int32\n",
       "Sub-product_Savings account                                      int32\n",
       "Sub-product_VA mortgage                                          int32\n",
       "                                                                 ...  \n",
       "Company_Ditech Financial LLC                                     int32\n",
       "Company_Navient Solutions, Inc.                                  int32\n",
       "Company_PNC Bank N.A.                                            int32\n",
       "Company_Encore Capital Group                                     int32\n",
       "Company_Amex                                                     int32\n",
       "Week_day_Wednesday                                               int32\n",
       "Week_day_Tuesday                                                 int32\n",
       "Week_day_Thursday                                                int32\n",
       "Week_day_Friday                                                  int32\n",
       "Week_day_Monday                                                  int32\n",
       "Week_day_Saturday                                                int32\n",
       "Tags_Older American                                              int32\n",
       "Consumer consent provided?_Consent provided                      int32\n",
       "Submitted via_Web                                                int32\n",
       "Submitted via_Referral                                           int32\n",
       "Submitted via_Phone                                              int32\n",
       "Submitted via_Postal mail                                        int32\n",
       "Company response to consumer_Closed with explanation             int32\n",
       "Company response to consumer_Closed with non-monetary relief     int32\n",
       "Company response to consumer_Closed with monetary relief         int32\n",
       "Company response to consumer_Closed without relief               int32\n",
       "Timely                                                           int32\n",
       "Company public response_b                                        int32\n",
       "Company public response_c                                        int32\n",
       "Company public response_d                                        int32\n",
       "Company public response_e                                        int32\n",
       "Company public response_f                                        int32\n",
       "Company public response_g                                        int32\n",
       "Company public response_h                                        int32\n",
       "Company public response_i                                        int32\n",
       "Length: 150, dtype: object"
      ]
     },
     "execution_count": 93,
     "metadata": {},
     "output_type": "execute_result"
    }
   ],
   "source": [
    "ex.dtypes"
   ]
  },
  {
   "cell_type": "code",
   "execution_count": 82,
   "metadata": {},
   "outputs": [
    {
     "data": {
      "text/plain": [
       "Yes    470277\n",
       "No       8144\n",
       "Name: Timely response?, dtype: int64"
      ]
     },
     "execution_count": 82,
     "metadata": {},
     "output_type": "execute_result"
    }
   ],
   "source": [
    "ex['Timely response?'].value_counts()"
   ]
  },
  {
   "cell_type": "code",
   "execution_count": 64,
   "metadata": {},
   "outputs": [
    {
     "data": {
      "text/plain": [
       "Wednesday    92755\n",
       "Tuesday      91589\n",
       "Thursday     88795\n",
       "Friday       79346\n",
       "Monday       78430\n",
       "Saturday     27574\n",
       "Sunday       19932\n",
       "Name: Week_day, dtype: int64"
      ]
     },
     "execution_count": 64,
     "metadata": {},
     "output_type": "execute_result"
    }
   ],
   "source": [
    "x[x>1000]"
   ]
  },
  {
   "cell_type": "code",
   "execution_count": 80,
   "metadata": {},
   "outputs": [],
   "source": [
    "#We have considered the classes with frequency count of 5000+\n",
    "col='Company response to consumer'\n",
    "freqs=ex[col].value_counts()\n",
    "selected_cats=freqs.index[freqs>6000][:-1]\n",
    "for cat in selected_cats:\n",
    "    name=col+'_'+cat\n",
    "    ex[name]=(ex[col]==cat).astype(int)\n",
    "del ex[col]"
   ]
  },
  {
   "cell_type": "code",
   "execution_count": 84,
   "metadata": {},
   "outputs": [],
   "source": [
    "ex.drop(['Timely response?'],axis=1,inplace=True)"
   ]
  },
  {
   "cell_type": "code",
   "execution_count": 83,
   "metadata": {},
   "outputs": [],
   "source": [
    "ex['Timely']=(ex['Timely response?']=='Yes').astype(int)"
   ]
  },
  {
   "cell_type": "code",
   "execution_count": 86,
   "metadata": {},
   "outputs": [
    {
     "data": {
      "text/plain": [
       "Company chooses not to provide a public response                                                                           41915\n",
       "Company has responded to the consumer and the CFPB and chooses not to provide a public response                            25672\n",
       "Company believes it acted appropriately as authorized by contract or law                                                   16040\n",
       "Company believes complaint caused principally by actions of third party outside the control or direction of the company     1460\n",
       "Company believes the complaint is the result of a misunderstanding                                                          1418\n",
       "Company disputes the facts presented in the complaint                                                                       1395\n",
       "Company believes complaint is the result of an isolated error                                                               1062\n",
       "Company can't verify or dispute the facts in the complaint                                                                   927\n",
       "Company believes complaint represents an opportunity for improvement to better serve consumers                               480\n",
       "Company believes complaint relates to a discontinued policy or procedure                                                      23\n",
       "Name: Company public response, dtype: int64"
      ]
     },
     "execution_count": 86,
     "metadata": {},
     "output_type": "execute_result"
    }
   ],
   "source": [
    "ex['Company public response'].value_counts()"
   ]
  },
  {
   "cell_type": "code",
   "execution_count": 188,
   "metadata": {},
   "outputs": [],
   "source": [
    "px=ex.copy()"
   ]
  },
  {
   "cell_type": "code",
   "execution_count": 200,
   "metadata": {},
   "outputs": [],
   "source": [
    "px['Consumer complaint narrative']=px['Consumer complaint narrative'].astype(str)"
   ]
  },
  {
   "cell_type": "code",
   "execution_count": 92,
   "metadata": {},
   "outputs": [],
   "source": [
    "y=0\n",
    "c=[\"a\",\"b\",\"c\",\"d\",\"e\",\"f\",\"g\",\"h\",\"i\",\"j\",\"k\"]\n",
    "col='Company public response'\n",
    "freqs=ex[col].value_counts()\n",
    "selected_cats=freqs.index[freqs>100][:-1]\n",
    "for cat in selected_cats:\n",
    "    y=y+1\n",
    "    name=col+'_'+c[y]\n",
    "    ex[name]=(ex[col]==cat).astype(int)\n",
    "del ex[col]"
   ]
  },
  {
   "cell_type": "code",
   "execution_count": null,
   "metadata": {},
   "outputs": [],
   "source": []
  },
  {
   "cell_type": "code",
   "execution_count": null,
   "metadata": {},
   "outputs": [],
   "source": []
  },
  {
   "cell_type": "code",
   "execution_count": 190,
   "metadata": {},
   "outputs": [],
   "source": [
    "v=np.array(px.columns)"
   ]
  },
  {
   "cell_type": "code",
   "execution_count": 191,
   "metadata": {},
   "outputs": [],
   "source": [
    "t=v.tolist()"
   ]
  },
  {
   "cell_type": "code",
   "execution_count": 192,
   "metadata": {},
   "outputs": [],
   "source": [
    "t.remove('Consumer complaint narrative')"
   ]
  },
  {
   "cell_type": "code",
   "execution_count": 187,
   "metadata": {},
   "outputs": [],
   "source": [
    "px['Consumer complaint narrative']=[i.replace(\"nan\",\"\") for i in tx['Consumer complaint narrative']]"
   ]
  },
  {
   "cell_type": "code",
   "execution_count": 110,
   "metadata": {},
   "outputs": [],
   "source": [
    "for i in range(len(tx)):\n",
    "    if tx['Consumer complaint narrative'][i]=='NaN':\n",
    "        ex.loc[i,'Consumer complaint narrative']=\"\""
   ]
  },
  {
   "cell_type": "code",
   "execution_count": 122,
   "metadata": {},
   "outputs": [
    {
     "data": {
      "text/plain": [
       "0                                                          \n",
       "1                                                          \n",
       "2                                                          \n",
       "3         My credit card statement from US Bank, XXXX. X...\n",
       "4                                                          \n",
       "5                                                          \n",
       "6                                                          \n",
       "7         I have a mortgage with Quicken Loans. From XXX...\n",
       "8                                                          \n",
       "9         I put my settlement check in to bank of americ...\n",
       "10                                                         \n",
       "11        All XXXX credit bureaus list XXXX state tax li...\n",
       "12                                                         \n",
       "13                                                         \n",
       "14        I received a letter from Ocwen 's Office of th...\n",
       "15                                                         \n",
       "16                                                         \n",
       "17                                                         \n",
       "18                                                         \n",
       "19                                                         \n",
       "20                                                         \n",
       "21                                                         \n",
       "22                                                         \n",
       "23        Experian has again sent misleading and false r...\n",
       "24        I tried to dispute their errors of their inves...\n",
       "25                                                         \n",
       "26                                                         \n",
       "27                                                         \n",
       "28                                                         \n",
       "29                                                         \n",
       "                                ...                        \n",
       "478391                                                     \n",
       "478392                                                     \n",
       "478393                                                     \n",
       "478394                                                     \n",
       "478395                                                     \n",
       "478396                                                     \n",
       "478397                                                     \n",
       "478398                                                     \n",
       "478399                                                     \n",
       "478400                                                     \n",
       "478401    In XXXX XXXX, XXXX of Summit Ficial Corporatio...\n",
       "478402                                                     \n",
       "478403                                                     \n",
       "478404                                                     \n",
       "478405                                                     \n",
       "478406                                                     \n",
       "478407                                                     \n",
       "478408                                                     \n",
       "478409    Transunion has ignored my request to provide m...\n",
       "478410                                                     \n",
       "478411                                                     \n",
       "478412    Hello, I opened a Citi Gold Checking account X...\n",
       "478413                                                     \n",
       "478414                                                     \n",
       "478415                                                     \n",
       "478416                                                     \n",
       "478417                                                     \n",
       "478418                                                     \n",
       "478419                                                     \n",
       "478420                                                     \n",
       "Name: Consumer complaint narrative, Length: 478421, dtype: object"
      ]
     },
     "execution_count": 122,
     "metadata": {},
     "output_type": "execute_result"
    }
   ],
   "source": [
    "tx['Consumer complaint narrative']"
   ]
  },
  {
   "cell_type": "code",
   "execution_count": 1,
   "metadata": {},
   "outputs": [],
   "source": [
    "#WE ARE DROPPING THE Consumer complaint narrative AS IT CONTAINS MORE NANS AND DOESN'T FIT INTO THE MODEL"
   ]
  },
  {
   "cell_type": "code",
   "execution_count": 129,
   "metadata": {},
   "outputs": [],
   "source": [
    "from sklearn.model_selection import train_test_split"
   ]
  },
  {
   "cell_type": "code",
   "execution_count": 130,
   "metadata": {},
   "outputs": [],
   "source": [
    "#WE ARE BUILDING MODEL USING LOGISTIC REGRESSION WITH LASSO"
   ]
  },
  {
   "cell_type": "code",
   "execution_count": 205,
   "metadata": {},
   "outputs": [],
   "source": [
    "ex.to_csv('Consumer_Dispute_Data.csv')"
   ]
  },
  {
   "cell_type": "code",
   "execution_count": 206,
   "metadata": {},
   "outputs": [],
   "source": [
    "l=pd.read_csv('Consumer_Dispute_Data.csv')"
   ]
  },
  {
   "cell_type": "code",
   "execution_count": 13,
   "metadata": {},
   "outputs": [
    {
     "data": {
      "text/plain": [
       "Month                                                           int64\n",
       "Year                                                            int64\n",
       "target                                                          int64\n",
       "Product_Mortgage                                                int64\n",
       "Product_Debt collection                                         int64\n",
       "Product_Credit reporting                                        int64\n",
       "Product_Credit card                                             int64\n",
       "Product_Bank account or service                                 int64\n",
       "Product_Consumer Loan                                           int64\n",
       "Product_Student loan                                            int64\n",
       "Product_Money transfers                                         int64\n",
       "Product_Payday loan                                             int64\n",
       "Sub-product_Other mortgage                                      int64\n",
       "Sub-product_Conventional fixed mortgage                         int64\n",
       "Sub-product_Checking account                                    int64\n",
       "Sub-product_Other (i.e. phone, health club, etc.)               int64\n",
       "Sub-product_I do not know                                       int64\n",
       "Sub-product_Credit card                                         int64\n",
       "Sub-product_Conventional adjustable mortgage (ARM)              int64\n",
       "Sub-product_FHA mortgage                                        int64\n",
       "Sub-product_Non-federal student loan                            int64\n",
       "Sub-product_Medical                                             int64\n",
       "Sub-product_Vehicle loan                                        int64\n",
       "Sub-product_Other bank product/service                          int64\n",
       "Sub-product_Payday loan                                         int64\n",
       "Sub-product_Home equity loan or line of credit                  int64\n",
       "Sub-product_Installment loan                                    int64\n",
       "Sub-product_Savings account                                     int64\n",
       "Sub-product_VA mortgage                                         int64\n",
       "Sub-product_Mortgage                                            int64\n",
       "                                                                ...  \n",
       "Company_Ditech Financial LLC                                    int64\n",
       "Company_Navient Solutions, Inc.                                 int64\n",
       "Company_PNC Bank N.A.                                           int64\n",
       "Company_Encore Capital Group                                    int64\n",
       "Company_Amex                                                    int64\n",
       "Week_day_Wednesday                                              int64\n",
       "Week_day_Tuesday                                                int64\n",
       "Week_day_Thursday                                               int64\n",
       "Week_day_Friday                                                 int64\n",
       "Week_day_Monday                                                 int64\n",
       "Week_day_Saturday                                               int64\n",
       "Tags_Older American                                             int64\n",
       "Consumer consent provided?_Consent provided                     int64\n",
       "Submitted via_Web                                               int64\n",
       "Submitted via_Referral                                          int64\n",
       "Submitted via_Phone                                             int64\n",
       "Submitted via_Postal mail                                       int64\n",
       "Company response to consumer_Closed with explanation            int64\n",
       "Company response to consumer_Closed with non-monetary relief    int64\n",
       "Company response to consumer_Closed with monetary relief        int64\n",
       "Company response to consumer_Closed without relief              int64\n",
       "Timely                                                          int64\n",
       "Company public response_b                                       int64\n",
       "Company public response_c                                       int64\n",
       "Company public response_d                                       int64\n",
       "Company public response_e                                       int64\n",
       "Company public response_f                                       int64\n",
       "Company public response_g                                       int64\n",
       "Company public response_h                                       int64\n",
       "Company public response_i                                       int64\n",
       "Length: 149, dtype: object"
      ]
     },
     "execution_count": 13,
     "metadata": {},
     "output_type": "execute_result"
    }
   ],
   "source": [
    "ex.dtypes"
   ]
  },
  {
   "cell_type": "code",
   "execution_count": 11,
   "metadata": {},
   "outputs": [],
   "source": [
    "from sklearn.linear_model import LogisticRegression\n",
    "from sklearn.cross_validation import train_test_split\n",
    "from sklearn.cross_validation import KFold"
   ]
  },
  {
   "cell_type": "code",
   "execution_count": 17,
   "metadata": {},
   "outputs": [],
   "source": [
    "logr=LogisticRegression(penalty=\"l1\",class_weight=\"balanced\",random_state=2)"
   ]
  },
  {
   "cell_type": "code",
   "execution_count": 15,
   "metadata": {},
   "outputs": [],
   "source": [
    "b_train,b_test=train_test_split(ex,test_size=0.2,random_state=2)"
   ]
  },
  {
   "cell_type": "code",
   "execution_count": 16,
   "metadata": {},
   "outputs": [],
   "source": [
    "x_train=b_train.drop([\"target\"],1)\n",
    "y_train=b_train[\"target\"]\n",
    "x_test=b_test.drop([\"target\"],1)\n",
    "y_test=b_test[\"target\"]"
   ]
  },
  {
   "cell_type": "code",
   "execution_count": 18,
   "metadata": {},
   "outputs": [
    {
     "data": {
      "text/plain": [
       "LogisticRegression(C=1.0, class_weight='balanced', dual=False,\n",
       "          fit_intercept=True, intercept_scaling=1, max_iter=100,\n",
       "          multi_class='ovr', n_jobs=1, penalty='l1', random_state=2,\n",
       "          solver='liblinear', tol=0.0001, verbose=0, warm_start=False)"
      ]
     },
     "execution_count": 18,
     "metadata": {},
     "output_type": "execute_result"
    }
   ],
   "source": [
    "logr.fit(x_train,y_train)"
   ]
  },
  {
   "cell_type": "code",
   "execution_count": 19,
   "metadata": {},
   "outputs": [],
   "source": [
    "from sklearn.metrics import roc_auc_score"
   ]
  },
  {
   "cell_type": "code",
   "execution_count": 24,
   "metadata": {},
   "outputs": [
    {
     "data": {
      "text/plain": [
       "0.5844559867333684"
      ]
     },
     "execution_count": 24,
     "metadata": {},
     "output_type": "execute_result"
    }
   ],
   "source": [
    "roc_auc_score(y_test,z)"
   ]
  },
  {
   "cell_type": "code",
   "execution_count": 20,
   "metadata": {},
   "outputs": [],
   "source": [
    "z=logr.predict(x_test)"
   ]
  },
  {
   "cell_type": "code",
   "execution_count": 2,
   "metadata": {},
   "outputs": [],
   "source": [
    "#AUC COMES OUT TO BE >0.56 WHICH IS GREATEER THEAN THE CUTOFF MENTIONED IN THE PROBLEM STATEMENT WE CAN TRY WITH RANDOM FOREST FOR BETTER AUC\n"
   ]
  },
  {
   "cell_type": "code",
   "execution_count": null,
   "metadata": {},
   "outputs": [],
   "source": []
  }
 ],
 "metadata": {
  "kernelspec": {
   "display_name": "Python 3",
   "language": "python",
   "name": "python3"
  },
  "language_info": {
   "codemirror_mode": {
    "name": "ipython",
    "version": 3
   },
   "file_extension": ".py",
   "mimetype": "text/x-python",
   "name": "python",
   "nbconvert_exporter": "python",
   "pygments_lexer": "ipython3",
   "version": "3.6.4"
  }
 },
 "nbformat": 4,
 "nbformat_minor": 2
}
